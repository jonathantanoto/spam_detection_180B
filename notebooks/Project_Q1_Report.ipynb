{
 "cells": [
  {
   "cell_type": "markdown",
   "metadata": {},
   "source": [
    "# Q1 Report\n",
    "### Author: Jonathan Tanoto (A15418595)\n",
    "### Mentor: Jingbo Shang (DSC 180A A02)\n",
    "### December 5, 2021"
   ]
  },
  {
   "cell_type": "markdown",
   "metadata": {},
   "source": [
    "### Introduction\n",
    "AutoPhrase is an algorithm that extracts high-quality phrases from a given corpus of text. The idea behind it is to extract quality phrases, unlike n-grams, which can improve computational models for the applications of the algorithm. Most, if not almost all, methods to extract high quality phrases would rely on human experts with knowledge of the quality of the phrases for it to work. The novelty of AutoPhrase is that it does not need these experts needed for other methods. This sets AutoPhrase apart from other tagging methods as it is domain-independent with minimal human effort. AutoPhrase leverages Robust Positive-Only Training and POS-guided Phrasal Segmentation to be able to achieve the level of independence it has."
   ]
  },
  {
   "cell_type": "markdown",
   "metadata": {},
   "source": [
    "### Methods\n",
    "**Robust Positive-Only Training**: High quality phrases are available in public knowledge bases like Wikipedia. This is leveraged in distance training to get rid of manual labeling effort. The algorithm independently builds samples of positive labels from the general knowledge bases and negative labels from the given domain corpora, and then train on that to produce some base classifiers.\n",
    "\n",
    "**POS-Guided Phrasal Segmentation**: There exists a trade-off between accuracy and domain- independence when the phrase mining method is a product of some linguistic modeling. On one hand, limited linguistic knowledge decreases accuracy. On the other, heavily linguistic- trained models will make it less domain-independent. Therefore, a pre-trained part-of- speech (POS) tagger is implemented to enhance the performance of the algorithm. This will allow the method to better understand the boundary of phrases more accurately."
   ]
  },
  {
   "cell_type": "markdown",
   "metadata": {},
   "source": [
    "### What is a quality phrase?\n",
    "“A phrase is defined as a sequence of words that appear consecutively in the text, forming a complete semantic unit in a certain context of a given document” (Shang). The quality of a phrase is defined to be the probability of the word sequence being a complete semantic unit, with the following criteria:\n",
    "\n",
    "- Popularity: Quality phrases should occur with sufficient frequency in the given document collection.\n",
    "- Concordance: The collocation of tokens in quality phrases occurs with significantly higher probability than expected due to chance\n",
    "- Informativeness: A phrase is informative if it is indicative of a specific topic or concept.\n",
    "- Completeness: Long frequent phrases and their sub-sequences within those phrases may both satisfy the 3 criteria above. A phrase is deemed complete when it can be interpreted as a complete semantic unit in some given document context."
   ]
  },
  {
   "cell_type": "markdown",
   "metadata": {},
   "source": [
    "AutoPhrase estimates the quality of the phrase based on the positive and negative pools twice, before and after the POS-guided phrasal segmentation.\n"
   ]
  },
  {
   "cell_type": "markdown",
   "metadata": {},
   "source": [
    "### Metric\n",
    "The first phase establishes a set of phrase candidates that contains all n-grams in the corpus given the threshold. Given a phrase candidate $w_1 w_2 ... w_n ,$ the phrase quality is:\n",
    "$$Q(w_1 w_2 ... w_n) = P(⌈w_1 w_2 ... w_n⌋|w_1 w_2 ... w_n) ∈ [0,1] ,$$ where $Q\\approx0$ means low-quality phrase, and $Q\\approx1$ shows a high-quality phrase."
   ]
  },
  {
   "cell_type": "markdown",
   "metadata": {},
   "source": [
    "## Goals\n",
    "1. Try to randomly pick 100 multi-word phrases whose scores are greater than 0.5. Manually check them and see what's the percentage of high-quality phrases.\n",
    "2. Since these 100 multi-word phrases can be ranked by their scores, please plot a precision-recall curve too.\n",
    "3. Try to run the word2vec code on the phrasal segmentation results to obtain phrase embedding. \n",
    "4. Pick 3 high-quality phrases from your previous annotations in step 1, run a similarity search among all multi-word phrases whose scores are greater than 0.5, and report the top-5 results. Comment on the results. "
   ]
  },
  {
   "cell_type": "markdown",
   "metadata": {},
   "source": [
    "### Extracting Multi-word phrases along with their scores "
   ]
  },
  {
   "cell_type": "code",
   "execution_count": 33,
   "metadata": {},
   "outputs": [],
   "source": [
    "# make sure run.py is executed with \"python run.py\" in order to populate /models\n",
    "# for this assignment, to keep version control, run.py was not run in this directory\n",
    "# \"models_final\" is duplicate \"models\" folder run on dsmlp that will be used instead for analysis\n",
    "import os\n",
    "\n",
    "models_path = \"../models_final/DBLP/AutoPhrase_multi-words.txt\"\n",
    "multi_phrases = []\n",
    "with open(models_path, \"r\") as f:\n",
    "    for line in f:\n",
    "        arr = line.split('\\t')\n",
    "        arr[0] = float(arr[0])\n",
    "        arr[1] = str(arr[1][:-1])\n",
    "        multi_phrases.append(tuple(arr))"
   ]
  },
  {
   "cell_type": "code",
   "execution_count": 129,
   "metadata": {},
   "outputs": [
    {
     "data": {
      "text/plain": [
       "[(0.9864838157, 'money laundering'),\n",
       " (0.9853626171, 'sleep apnea'),\n",
       " (0.9848519374, 'blast furnace'),\n",
       " (0.9848116912, 'orthopedic surgery'),\n",
       " (0.9839320615, 'doctoral consortium'),\n",
       " (0.9837732296, 'bitonic sort'),\n",
       " (0.9835874403, 'sleep deprivation'),\n",
       " (0.9833576899, 'nested dissection'),\n",
       " (0.9833394379, 'magnetic levitation'),\n",
       " (0.9833320615, 'josephson junctions')]"
      ]
     },
     "execution_count": 129,
     "metadata": {},
     "output_type": "execute_result"
    }
   ],
   "source": [
    "multi_phrases[:10]"
   ]
  },
  {
   "cell_type": "markdown",
   "metadata": {},
   "source": [
    "### Random pick 100 multi-word phrases with score greater than 5"
   ]
  },
  {
   "cell_type": "code",
   "execution_count": 55,
   "metadata": {},
   "outputs": [],
   "source": [
    "import random\n",
    "\n",
    "random.seed(11)\n",
    "\n",
    "# find index where phrase has score lower than 0.5\n",
    "cutoff = 0\n",
    "for i in multi_phrases:\n",
    "    if i[0] < 0.5:\n",
    "        break\n",
    "    cutoff += 1\n",
    "\n",
    "# sample 100 random indices    \n",
    "ind = sorted(random.sample(range(cutoff), 100))\n",
    "\n",
    "# append in array\n",
    "hundred = []\n",
    "for i in ind:\n",
    "    hundred.append(multi_phrases[i])"
   ]
  },
  {
   "cell_type": "code",
   "execution_count": 130,
   "metadata": {},
   "outputs": [
    {
     "data": {
      "text/plain": [
       "[(0.9776772996, 'presidential election'),\n",
       " (0.9696707174, 'advance reservation'),\n",
       " (0.9576116248, 'bird species'),\n",
       " (0.9574645526, 'eng syst saf'),\n",
       " (0.9555348761, 'power plant'),\n",
       " (0.9432152047, 'meeting room'),\n",
       " (0.9429247613, 'user interface'),\n",
       " (0.9379547803, 'mesh refinement'),\n",
       " (0.9327036243, 'channel state information'),\n",
       " (0.924076646, 'sony ericsson')]"
      ]
     },
     "execution_count": 130,
     "metadata": {},
     "output_type": "execute_result"
    }
   ],
   "source": [
    "hundred[:10]"
   ]
  },
  {
   "cell_type": "markdown",
   "metadata": {},
   "source": [
    "Out of the list of multi-word phrases above, we have identified 7 non-high quality phrases.\n",
    "1. eng syst saf\n",
    "2. harnessing collective intelligence\n",
    "3. batch means\n",
    "4. practicing software engineers\n",
    "5. imbedded markov chain\n",
    "6. ip over wdm networks\n",
    "7. 65 nm\n",
    "\n",
    "This results in 93% of the phrases above being high quality."
   ]
  },
  {
   "cell_type": "markdown",
   "metadata": {},
   "source": [
    "### Precision-Recall Graph"
   ]
  },
  {
   "cell_type": "markdown",
   "metadata": {},
   "source": [
    "The evaluation metrics that we will use is the precision-recall curve. For a list of extracted phrases, precision is the number of true quality phrases divided by the number of predicted quality phrases; recall is the number of true quality phrases divided by the total number of quality phrases.\n",
    "\n",
    "$$Precision = \\frac{Correct}{Count}$$\n",
    "\n",
    "$$Recall = \\frac{Correct}{(TotalNumberOfQualityPhrases)}$$"
   ]
  },
  {
   "cell_type": "code",
   "execution_count": 60,
   "metadata": {},
   "outputs": [],
   "source": [
    "bad_phrases = [\"eng syst saf\",\n",
    "               \"harnessing collective intelligence\",\n",
    "               \"batch means\",\n",
    "               \"practicing software engineers\",\n",
    "               \"imbedded markov chain\",\n",
    "               \"ip over wdm networks\",\n",
    "               \"65 nm\"]"
   ]
  },
  {
   "cell_type": "code",
   "execution_count": 88,
   "metadata": {},
   "outputs": [],
   "source": [
    "precision_recall = []\n",
    "count = 0\n",
    "correct = 0\n",
    "\n",
    "for phrase in hundred:\n",
    "    count += 1\n",
    "    if phrase[1] in bad_phrases: \n",
    "        continue\n",
    "    # hundred only consists of Positive labels\n",
    "    # Precision = TP / (TP + FP) = Correct / Count\n",
    "    # Recall = TP / (TP + FN) = Correct / (100-7)\n",
    "    correct += 1\n",
    "    precision = correct / count\n",
    "    recall = correct / (len(hundred) - len(bad_phrases))\n",
    "    precision_recall.append(tuple([precision, recall]))"
   ]
  },
  {
   "cell_type": "code",
   "execution_count": 89,
   "metadata": {},
   "outputs": [
    {
     "data": {
      "image/png": "[encoded data removed]",
      "text/plain": [
       "<Figure size 640x480 with 1 Axes>"
      ]
     },
     "metadata": {},
     "output_type": "display_data"
    }
   ],
   "source": [
    "import matplotlib.pyplot as plt\n",
    "\n",
    "precision = [elem[0] for elem in precision_recall]\n",
    "recall = [elem[1] for elem in precision_recall]\n",
    "\n",
    "fig, ax = plt.subplots()\n",
    "ax.plot(recall, precision, color='blue')\n",
    "\n",
    "# add axis labels to plot\n",
    "ax.set_title('Precision-Recall Curve')\n",
    "ax.set_ylabel('Precision')\n",
    "ax.set_xlabel('Recall')\n",
    "\n",
    "# set axis limits\n",
    "plt.axis([0, 1.1, 0, 1.1])\n",
    "\n",
    "# display plot\n",
    "plt.show()"
   ]
  },
  {
   "cell_type": "markdown",
   "metadata": {},
   "source": [
    "### Running word2vec Code on the Phrasal Segmentation Results"
   ]
  },
  {
   "cell_type": "markdown",
   "metadata": {},
   "source": [
    "The code below will parse through segmentation.txt and join high-quality phrases with an underscore. For example, it will convert \"... {phrase}support vector machine{/phrase} ...\" to \"... support_vector_machine ...\" in order to preserve the phrasal segmentation before turning the words into vector form."
   ]
  },
  {
   "cell_type": "code",
   "execution_count": 124,
   "metadata": {},
   "outputs": [],
   "source": [
    "# load phrasal segmentation results\n",
    "import os\n",
    "import re\n",
    "\n",
    "models_path = \"../models_final/DBLP/segmentation.txt\"\n",
    "seg = []\n",
    "with open(models_path, \"r\") as f:\n",
    "    count = 0\n",
    "    for line in f:\n",
    "        if count%2 == 1:\n",
    "            count += 1\n",
    "            continue\n",
    "        r = re.sub(r'<phrase_Q.......', '<phrase>', line)\n",
    "        s = re.sub(r\"<phrase>(.*?)<\\/phrase>\", lambda g: f'{g.group(1).replace(\" \", \"_\")}', r)\n",
    "        seg.append(s[:-2])\n",
    "        count += 1"
   ]
  },
  {
   "cell_type": "code",
   "execution_count": 126,
   "metadata": {},
   "outputs": [],
   "source": [
    "sentences = [s.split() for s in seg]"
   ]
  },
  {
   "cell_type": "code",
   "execution_count": 128,
   "metadata": {},
   "outputs": [],
   "source": [
    "from gensim.models import Word2Vec\n",
    "\n",
    "# train model\n",
    "model = Word2Vec(sentences)"
   ]
  },
  {
   "cell_type": "markdown",
   "metadata": {},
   "source": [
    "### Similarity Search"
   ]
  },
  {
   "cell_type": "markdown",
   "metadata": {},
   "source": [
    "For this section, we will be picking 3 high-quality phrases from multi-word phrases in the first section and run a similarity search among all multi-word phrases whose scores are greater than 0.5. We will report the top 5 results.\n",
    "1. money_laundering\n",
    "2. estrogen_receptor\n",
    "3. database_systems"
   ]
  },
  {
   "cell_type": "code",
   "execution_count": 149,
   "metadata": {},
   "outputs": [],
   "source": [
    "mult_high = ['_'.join(p[1].split()) for p in multi_phrases if p[0]>.5]"
   ]
  },
  {
   "cell_type": "code",
   "execution_count": 173,
   "metadata": {},
   "outputs": [
    {
     "name": "stdout",
     "output_type": "stream",
     "text": [
      "Most similar phrases to: money_laundering\n",
      "['credit_card_fraud', 0.77307796]\n",
      "['adverse_drug_events', 0.77107453]\n",
      "['sybil_attacks', 0.7433408]\n",
      "['driver_inattention', 0.74244493]\n",
      "['financial_fraud', 0.74137884]\n",
      "-------------------------------------------------\n",
      "Most similar phrases to: estrogen_receptor\n",
      "['reverse_transcriptase', 0.8015097]\n",
      "['binding_pocket', 0.78709424]\n",
      "['somatic_mutations', 0.7838313]\n",
      "['ribosomal_protein', 0.77083826]\n",
      "['biological_features', 0.7703784]\n",
      "-------------------------------------------------\n",
      "Most similar phrases to: database_systems\n",
      "['database_management_systems', 0.86014616]\n",
      "['storage_systems', 0.79723114]\n",
      "['file_systems', 0.7957947]\n",
      "['distributed_systems', 0.72226775]\n",
      "['computer_systems', 0.7018486]\n",
      "-------------------------------------------------\n"
     ]
    }
   ],
   "source": [
    "candidates = ['money_laundering', 'estrogen_receptor', 'database_systems']\n",
    "for c in candidates:\n",
    "    print(\"Most similar phrases to: \"+ c)\n",
    "    sim_arr = []\n",
    "    for p in mult_high:\n",
    "        try:\n",
    "            sim_arr.append([p, model.wv.similarity(c, p)])\n",
    "        except KeyError: \n",
    "            continue\n",
    "    sim_arr.sort(key=lambda x: x[1], reverse=True)\n",
    "    for p in sim_arr[1:6]: # ignore first since it will be the same phrase \n",
    "        print(p)\n",
    "    print(\"-------------------------------------------------\")"
   ]
  },
  {
   "cell_type": "markdown",
   "metadata": {},
   "source": [
    "Looking at the results above, it seems like the phrase embedding worked well on the word2vec. We can see from the output above that the five top similar phrases for each phrase seems to be related and similar to one another."
   ]
  }
 ],
 "metadata": {
  "kernelspec": {
   "display_name": "Python 3",
   "language": "python",
   "name": "python3"
  },
  "language_info": {
   "codemirror_mode": {
    "name": "ipython",
    "version": 3
   },
   "file_extension": ".py",
   "mimetype": "text/x-python",
   "name": "python",
   "nbconvert_exporter": "python",
   "pygments_lexer": "ipython3",
   "version": "3.7.6"
  }
 },
 "nbformat": 4,
 "nbformat_minor": 4
}
